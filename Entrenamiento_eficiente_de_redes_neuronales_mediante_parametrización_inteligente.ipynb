{
  "nbformat": 4,
  "nbformat_minor": 0,
  "metadata": {
    "colab": {
      "provenance": [],
      "include_colab_link": true
    },
    "kernelspec": {
      "name": "python3",
      "display_name": "Python 3"
    },
    "language_info": {
      "name": "python"
    }
  },
  "cells": [
    {
      "cell_type": "markdown",
      "metadata": {
        "id": "view-in-github",
        "colab_type": "text"
      },
      "source": [
        "<a href=\"https://colab.research.google.com/github/Darkismaxr/ProyectoIA/blob/main/Entrenamiento_eficiente_de_redes_neuronales_mediante_parametrizaci%C3%B3n_inteligente.ipynb\" target=\"_parent\"><img src=\"https://colab.research.google.com/assets/colab-badge.svg\" alt=\"Open In Colab\"/></a>"
      ]
    },
    {
      "cell_type": "markdown",
      "source": [
        "# Entrenamiento eficiente de redes neuronales mediante parametrización inteligente\n",
        "\n",
        "Este proyecto implementa una red neuronal con un sistema de parametrización inteligente, enfocado en optimizar automáticamente los hiperparámetros clave del modelo para mejorar su rendimiento."
      ],
      "metadata": {
        "id": "ZWtcigEOpQr8"
      }
    },
    {
      "cell_type": "markdown",
      "source": [
        "Como modelo voy a usar redes neuronales y como datos voy a emplear el conjunto de datos Breast Cancer Wisconsin (Diagnostic) Data Set"
      ],
      "metadata": {
        "id": "1L3QKRoNVqTk"
      }
    },
    {
      "cell_type": "code",
      "execution_count": null,
      "metadata": {
        "id": "AUrecy-NpMVu"
      },
      "outputs": [],
      "source": [
        "# Importamos las bibliotecas necesarias\n",
        "%matplotlib inline\n",
        "import matplotlib.pyplot as plt\n",
        "import seaborn as sns; sns.set()\n",
        "import pandas as pd\n",
        "import numpy as np\n",
        "\n",
        "from sklearn import  preprocessing # Para el procesado de los datos\n",
        "from sklearn import neural_network\n",
        "from sklearn import model_selection\n",
        "from sklearn import metrics"
      ]
    },
    {
      "cell_type": "markdown",
      "source": [
        "###Importamos los datos"
      ],
      "metadata": {
        "id": "7hFJWr-QXJJ2"
      }
    },
    {
      "cell_type": "code",
      "source": [
        "# Cargamos el conjunto de datos\n",
        "url_datos = 'https://raw.githubusercontent.com/jamaltoutouh/curso-ciencia-de-datos-python/main/breast-cancer.csv'\n",
        "cancer_dataset = pd.read_csv(url_datos)\n",
        "\n",
        "print('Atributos del conjunto de datos: ', cancer_dataset.columns)\n",
        "print('Dimensiones del conjunto de datos',cancer_dataset.shape)"
      ],
      "metadata": {
        "colab": {
          "base_uri": "https://localhost:8080/"
        },
        "id": "OkOndyv5V3m_",
        "outputId": "cb120218-47a0-403b-ceb2-8cea5ede15f2"
      },
      "execution_count": null,
      "outputs": [
        {
          "output_type": "stream",
          "name": "stdout",
          "text": [
            "Atributos del conjunto de datos:  Index(['id', 'diagnosis', 'radius_mean', 'texture_mean', 'perimeter_mean',\n",
            "       'area_mean', 'smoothness_mean', 'compactness_mean', 'concavity_mean',\n",
            "       'concave points_mean', 'symmetry_mean', 'fractal_dimension_mean',\n",
            "       'radius_se', 'texture_se', 'perimeter_se', 'area_se', 'smoothness_se',\n",
            "       'compactness_se', 'concavity_se', 'concave points_se', 'symmetry_se',\n",
            "       'fractal_dimension_se', 'radius_worst', 'texture_worst',\n",
            "       'perimeter_worst', 'area_worst', 'smoothness_worst',\n",
            "       'compactness_worst', 'concavity_worst', 'concave points_worst',\n",
            "       'symmetry_worst', 'fractal_dimension_worst', 'Unnamed: 32'],\n",
            "      dtype='object')\n",
            "Dimensiones del conjunto de datos (569, 33)\n"
          ]
        }
      ]
    },
    {
      "cell_type": "code",
      "source": [
        "cancer_dataset.head()"
      ],
      "metadata": {
        "colab": {
          "base_uri": "https://localhost:8080/",
          "height": 273
        },
        "id": "Jd_sIys6X2fw",
        "outputId": "75543a49-6f6a-4c47-c7a5-37225a32fae9"
      },
      "execution_count": null,
      "outputs": [
        {
          "output_type": "execute_result",
          "data": {
            "text/plain": [
              "         id diagnosis  radius_mean  texture_mean  perimeter_mean  area_mean  \\\n",
              "0    842302         M        17.99         10.38          122.80     1001.0   \n",
              "1    842517         M        20.57         17.77          132.90     1326.0   \n",
              "2  84300903         M        19.69         21.25          130.00     1203.0   \n",
              "3  84348301         M        11.42         20.38           77.58      386.1   \n",
              "4  84358402         M        20.29         14.34          135.10     1297.0   \n",
              "\n",
              "   smoothness_mean  compactness_mean  concavity_mean  concave points_mean  \\\n",
              "0          0.11840           0.27760          0.3001              0.14710   \n",
              "1          0.08474           0.07864          0.0869              0.07017   \n",
              "2          0.10960           0.15990          0.1974              0.12790   \n",
              "3          0.14250           0.28390          0.2414              0.10520   \n",
              "4          0.10030           0.13280          0.1980              0.10430   \n",
              "\n",
              "   ...  texture_worst  perimeter_worst  area_worst  smoothness_worst  \\\n",
              "0  ...          17.33           184.60      2019.0            0.1622   \n",
              "1  ...          23.41           158.80      1956.0            0.1238   \n",
              "2  ...          25.53           152.50      1709.0            0.1444   \n",
              "3  ...          26.50            98.87       567.7            0.2098   \n",
              "4  ...          16.67           152.20      1575.0            0.1374   \n",
              "\n",
              "   compactness_worst  concavity_worst  concave points_worst  symmetry_worst  \\\n",
              "0             0.6656           0.7119                0.2654          0.4601   \n",
              "1             0.1866           0.2416                0.1860          0.2750   \n",
              "2             0.4245           0.4504                0.2430          0.3613   \n",
              "3             0.8663           0.6869                0.2575          0.6638   \n",
              "4             0.2050           0.4000                0.1625          0.2364   \n",
              "\n",
              "   fractal_dimension_worst  Unnamed: 32  \n",
              "0                  0.11890          NaN  \n",
              "1                  0.08902          NaN  \n",
              "2                  0.08758          NaN  \n",
              "3                  0.17300          NaN  \n",
              "4                  0.07678          NaN  \n",
              "\n",
              "[5 rows x 33 columns]"
            ],
            "text/html": [
              "\n",
              "  <div id=\"df-4e3a35cd-8c6c-4bc0-bb2a-ba8a072a98fa\" class=\"colab-df-container\">\n",
              "    <div>\n",
              "<style scoped>\n",
              "    .dataframe tbody tr th:only-of-type {\n",
              "        vertical-align: middle;\n",
              "    }\n",
              "\n",
              "    .dataframe tbody tr th {\n",
              "        vertical-align: top;\n",
              "    }\n",
              "\n",
              "    .dataframe thead th {\n",
              "        text-align: right;\n",
              "    }\n",
              "</style>\n",
              "<table border=\"1\" class=\"dataframe\">\n",
              "  <thead>\n",
              "    <tr style=\"text-align: right;\">\n",
              "      <th></th>\n",
              "      <th>id</th>\n",
              "      <th>diagnosis</th>\n",
              "      <th>radius_mean</th>\n",
              "      <th>texture_mean</th>\n",
              "      <th>perimeter_mean</th>\n",
              "      <th>area_mean</th>\n",
              "      <th>smoothness_mean</th>\n",
              "      <th>compactness_mean</th>\n",
              "      <th>concavity_mean</th>\n",
              "      <th>concave points_mean</th>\n",
              "      <th>...</th>\n",
              "      <th>texture_worst</th>\n",
              "      <th>perimeter_worst</th>\n",
              "      <th>area_worst</th>\n",
              "      <th>smoothness_worst</th>\n",
              "      <th>compactness_worst</th>\n",
              "      <th>concavity_worst</th>\n",
              "      <th>concave points_worst</th>\n",
              "      <th>symmetry_worst</th>\n",
              "      <th>fractal_dimension_worst</th>\n",
              "      <th>Unnamed: 32</th>\n",
              "    </tr>\n",
              "  </thead>\n",
              "  <tbody>\n",
              "    <tr>\n",
              "      <th>0</th>\n",
              "      <td>842302</td>\n",
              "      <td>M</td>\n",
              "      <td>17.99</td>\n",
              "      <td>10.38</td>\n",
              "      <td>122.80</td>\n",
              "      <td>1001.0</td>\n",
              "      <td>0.11840</td>\n",
              "      <td>0.27760</td>\n",
              "      <td>0.3001</td>\n",
              "      <td>0.14710</td>\n",
              "      <td>...</td>\n",
              "      <td>17.33</td>\n",
              "      <td>184.60</td>\n",
              "      <td>2019.0</td>\n",
              "      <td>0.1622</td>\n",
              "      <td>0.6656</td>\n",
              "      <td>0.7119</td>\n",
              "      <td>0.2654</td>\n",
              "      <td>0.4601</td>\n",
              "      <td>0.11890</td>\n",
              "      <td>NaN</td>\n",
              "    </tr>\n",
              "    <tr>\n",
              "      <th>1</th>\n",
              "      <td>842517</td>\n",
              "      <td>M</td>\n",
              "      <td>20.57</td>\n",
              "      <td>17.77</td>\n",
              "      <td>132.90</td>\n",
              "      <td>1326.0</td>\n",
              "      <td>0.08474</td>\n",
              "      <td>0.07864</td>\n",
              "      <td>0.0869</td>\n",
              "      <td>0.07017</td>\n",
              "      <td>...</td>\n",
              "      <td>23.41</td>\n",
              "      <td>158.80</td>\n",
              "      <td>1956.0</td>\n",
              "      <td>0.1238</td>\n",
              "      <td>0.1866</td>\n",
              "      <td>0.2416</td>\n",
              "      <td>0.1860</td>\n",
              "      <td>0.2750</td>\n",
              "      <td>0.08902</td>\n",
              "      <td>NaN</td>\n",
              "    </tr>\n",
              "    <tr>\n",
              "      <th>2</th>\n",
              "      <td>84300903</td>\n",
              "      <td>M</td>\n",
              "      <td>19.69</td>\n",
              "      <td>21.25</td>\n",
              "      <td>130.00</td>\n",
              "      <td>1203.0</td>\n",
              "      <td>0.10960</td>\n",
              "      <td>0.15990</td>\n",
              "      <td>0.1974</td>\n",
              "      <td>0.12790</td>\n",
              "      <td>...</td>\n",
              "      <td>25.53</td>\n",
              "      <td>152.50</td>\n",
              "      <td>1709.0</td>\n",
              "      <td>0.1444</td>\n",
              "      <td>0.4245</td>\n",
              "      <td>0.4504</td>\n",
              "      <td>0.2430</td>\n",
              "      <td>0.3613</td>\n",
              "      <td>0.08758</td>\n",
              "      <td>NaN</td>\n",
              "    </tr>\n",
              "    <tr>\n",
              "      <th>3</th>\n",
              "      <td>84348301</td>\n",
              "      <td>M</td>\n",
              "      <td>11.42</td>\n",
              "      <td>20.38</td>\n",
              "      <td>77.58</td>\n",
              "      <td>386.1</td>\n",
              "      <td>0.14250</td>\n",
              "      <td>0.28390</td>\n",
              "      <td>0.2414</td>\n",
              "      <td>0.10520</td>\n",
              "      <td>...</td>\n",
              "      <td>26.50</td>\n",
              "      <td>98.87</td>\n",
              "      <td>567.7</td>\n",
              "      <td>0.2098</td>\n",
              "      <td>0.8663</td>\n",
              "      <td>0.6869</td>\n",
              "      <td>0.2575</td>\n",
              "      <td>0.6638</td>\n",
              "      <td>0.17300</td>\n",
              "      <td>NaN</td>\n",
              "    </tr>\n",
              "    <tr>\n",
              "      <th>4</th>\n",
              "      <td>84358402</td>\n",
              "      <td>M</td>\n",
              "      <td>20.29</td>\n",
              "      <td>14.34</td>\n",
              "      <td>135.10</td>\n",
              "      <td>1297.0</td>\n",
              "      <td>0.10030</td>\n",
              "      <td>0.13280</td>\n",
              "      <td>0.1980</td>\n",
              "      <td>0.10430</td>\n",
              "      <td>...</td>\n",
              "      <td>16.67</td>\n",
              "      <td>152.20</td>\n",
              "      <td>1575.0</td>\n",
              "      <td>0.1374</td>\n",
              "      <td>0.2050</td>\n",
              "      <td>0.4000</td>\n",
              "      <td>0.1625</td>\n",
              "      <td>0.2364</td>\n",
              "      <td>0.07678</td>\n",
              "      <td>NaN</td>\n",
              "    </tr>\n",
              "  </tbody>\n",
              "</table>\n",
              "<p>5 rows × 33 columns</p>\n",
              "</div>\n",
              "    <div class=\"colab-df-buttons\">\n",
              "\n",
              "  <div class=\"colab-df-container\">\n",
              "    <button class=\"colab-df-convert\" onclick=\"convertToInteractive('df-4e3a35cd-8c6c-4bc0-bb2a-ba8a072a98fa')\"\n",
              "            title=\"Convert this dataframe to an interactive table.\"\n",
              "            style=\"display:none;\">\n",
              "\n",
              "  <svg xmlns=\"http://www.w3.org/2000/svg\" height=\"24px\" viewBox=\"0 -960 960 960\">\n",
              "    <path d=\"M120-120v-720h720v720H120Zm60-500h600v-160H180v160Zm220 220h160v-160H400v160Zm0 220h160v-160H400v160ZM180-400h160v-160H180v160Zm440 0h160v-160H620v160ZM180-180h160v-160H180v160Zm440 0h160v-160H620v160Z\"/>\n",
              "  </svg>\n",
              "    </button>\n",
              "\n",
              "  <style>\n",
              "    .colab-df-container {\n",
              "      display:flex;\n",
              "      gap: 12px;\n",
              "    }\n",
              "\n",
              "    .colab-df-convert {\n",
              "      background-color: #E8F0FE;\n",
              "      border: none;\n",
              "      border-radius: 50%;\n",
              "      cursor: pointer;\n",
              "      display: none;\n",
              "      fill: #1967D2;\n",
              "      height: 32px;\n",
              "      padding: 0 0 0 0;\n",
              "      width: 32px;\n",
              "    }\n",
              "\n",
              "    .colab-df-convert:hover {\n",
              "      background-color: #E2EBFA;\n",
              "      box-shadow: 0px 1px 2px rgba(60, 64, 67, 0.3), 0px 1px 3px 1px rgba(60, 64, 67, 0.15);\n",
              "      fill: #174EA6;\n",
              "    }\n",
              "\n",
              "    .colab-df-buttons div {\n",
              "      margin-bottom: 4px;\n",
              "    }\n",
              "\n",
              "    [theme=dark] .colab-df-convert {\n",
              "      background-color: #3B4455;\n",
              "      fill: #D2E3FC;\n",
              "    }\n",
              "\n",
              "    [theme=dark] .colab-df-convert:hover {\n",
              "      background-color: #434B5C;\n",
              "      box-shadow: 0px 1px 3px 1px rgba(0, 0, 0, 0.15);\n",
              "      filter: drop-shadow(0px 1px 2px rgba(0, 0, 0, 0.3));\n",
              "      fill: #FFFFFF;\n",
              "    }\n",
              "  </style>\n",
              "\n",
              "    <script>\n",
              "      const buttonEl =\n",
              "        document.querySelector('#df-4e3a35cd-8c6c-4bc0-bb2a-ba8a072a98fa button.colab-df-convert');\n",
              "      buttonEl.style.display =\n",
              "        google.colab.kernel.accessAllowed ? 'block' : 'none';\n",
              "\n",
              "      async function convertToInteractive(key) {\n",
              "        const element = document.querySelector('#df-4e3a35cd-8c6c-4bc0-bb2a-ba8a072a98fa');\n",
              "        const dataTable =\n",
              "          await google.colab.kernel.invokeFunction('convertToInteractive',\n",
              "                                                    [key], {});\n",
              "        if (!dataTable) return;\n",
              "\n",
              "        const docLinkHtml = 'Like what you see? Visit the ' +\n",
              "          '<a target=\"_blank\" href=https://colab.research.google.com/notebooks/data_table.ipynb>data table notebook</a>'\n",
              "          + ' to learn more about interactive tables.';\n",
              "        element.innerHTML = '';\n",
              "        dataTable['output_type'] = 'display_data';\n",
              "        await google.colab.output.renderOutput(dataTable, element);\n",
              "        const docLink = document.createElement('div');\n",
              "        docLink.innerHTML = docLinkHtml;\n",
              "        element.appendChild(docLink);\n",
              "      }\n",
              "    </script>\n",
              "  </div>\n",
              "\n",
              "\n",
              "<div id=\"df-cc1fdfcd-fd99-4df6-bdc6-6176f497deca\">\n",
              "  <button class=\"colab-df-quickchart\" onclick=\"quickchart('df-cc1fdfcd-fd99-4df6-bdc6-6176f497deca')\"\n",
              "            title=\"Suggest charts\"\n",
              "            style=\"display:none;\">\n",
              "\n",
              "<svg xmlns=\"http://www.w3.org/2000/svg\" height=\"24px\"viewBox=\"0 0 24 24\"\n",
              "     width=\"24px\">\n",
              "    <g>\n",
              "        <path d=\"M19 3H5c-1.1 0-2 .9-2 2v14c0 1.1.9 2 2 2h14c1.1 0 2-.9 2-2V5c0-1.1-.9-2-2-2zM9 17H7v-7h2v7zm4 0h-2V7h2v10zm4 0h-2v-4h2v4z\"/>\n",
              "    </g>\n",
              "</svg>\n",
              "  </button>\n",
              "\n",
              "<style>\n",
              "  .colab-df-quickchart {\n",
              "      --bg-color: #E8F0FE;\n",
              "      --fill-color: #1967D2;\n",
              "      --hover-bg-color: #E2EBFA;\n",
              "      --hover-fill-color: #174EA6;\n",
              "      --disabled-fill-color: #AAA;\n",
              "      --disabled-bg-color: #DDD;\n",
              "  }\n",
              "\n",
              "  [theme=dark] .colab-df-quickchart {\n",
              "      --bg-color: #3B4455;\n",
              "      --fill-color: #D2E3FC;\n",
              "      --hover-bg-color: #434B5C;\n",
              "      --hover-fill-color: #FFFFFF;\n",
              "      --disabled-bg-color: #3B4455;\n",
              "      --disabled-fill-color: #666;\n",
              "  }\n",
              "\n",
              "  .colab-df-quickchart {\n",
              "    background-color: var(--bg-color);\n",
              "    border: none;\n",
              "    border-radius: 50%;\n",
              "    cursor: pointer;\n",
              "    display: none;\n",
              "    fill: var(--fill-color);\n",
              "    height: 32px;\n",
              "    padding: 0;\n",
              "    width: 32px;\n",
              "  }\n",
              "\n",
              "  .colab-df-quickchart:hover {\n",
              "    background-color: var(--hover-bg-color);\n",
              "    box-shadow: 0 1px 2px rgba(60, 64, 67, 0.3), 0 1px 3px 1px rgba(60, 64, 67, 0.15);\n",
              "    fill: var(--button-hover-fill-color);\n",
              "  }\n",
              "\n",
              "  .colab-df-quickchart-complete:disabled,\n",
              "  .colab-df-quickchart-complete:disabled:hover {\n",
              "    background-color: var(--disabled-bg-color);\n",
              "    fill: var(--disabled-fill-color);\n",
              "    box-shadow: none;\n",
              "  }\n",
              "\n",
              "  .colab-df-spinner {\n",
              "    border: 2px solid var(--fill-color);\n",
              "    border-color: transparent;\n",
              "    border-bottom-color: var(--fill-color);\n",
              "    animation:\n",
              "      spin 1s steps(1) infinite;\n",
              "  }\n",
              "\n",
              "  @keyframes spin {\n",
              "    0% {\n",
              "      border-color: transparent;\n",
              "      border-bottom-color: var(--fill-color);\n",
              "      border-left-color: var(--fill-color);\n",
              "    }\n",
              "    20% {\n",
              "      border-color: transparent;\n",
              "      border-left-color: var(--fill-color);\n",
              "      border-top-color: var(--fill-color);\n",
              "    }\n",
              "    30% {\n",
              "      border-color: transparent;\n",
              "      border-left-color: var(--fill-color);\n",
              "      border-top-color: var(--fill-color);\n",
              "      border-right-color: var(--fill-color);\n",
              "    }\n",
              "    40% {\n",
              "      border-color: transparent;\n",
              "      border-right-color: var(--fill-color);\n",
              "      border-top-color: var(--fill-color);\n",
              "    }\n",
              "    60% {\n",
              "      border-color: transparent;\n",
              "      border-right-color: var(--fill-color);\n",
              "    }\n",
              "    80% {\n",
              "      border-color: transparent;\n",
              "      border-right-color: var(--fill-color);\n",
              "      border-bottom-color: var(--fill-color);\n",
              "    }\n",
              "    90% {\n",
              "      border-color: transparent;\n",
              "      border-bottom-color: var(--fill-color);\n",
              "    }\n",
              "  }\n",
              "</style>\n",
              "\n",
              "  <script>\n",
              "    async function quickchart(key) {\n",
              "      const quickchartButtonEl =\n",
              "        document.querySelector('#' + key + ' button');\n",
              "      quickchartButtonEl.disabled = true;  // To prevent multiple clicks.\n",
              "      quickchartButtonEl.classList.add('colab-df-spinner');\n",
              "      try {\n",
              "        const charts = await google.colab.kernel.invokeFunction(\n",
              "            'suggestCharts', [key], {});\n",
              "      } catch (error) {\n",
              "        console.error('Error during call to suggestCharts:', error);\n",
              "      }\n",
              "      quickchartButtonEl.classList.remove('colab-df-spinner');\n",
              "      quickchartButtonEl.classList.add('colab-df-quickchart-complete');\n",
              "    }\n",
              "    (() => {\n",
              "      let quickchartButtonEl =\n",
              "        document.querySelector('#df-cc1fdfcd-fd99-4df6-bdc6-6176f497deca button');\n",
              "      quickchartButtonEl.style.display =\n",
              "        google.colab.kernel.accessAllowed ? 'block' : 'none';\n",
              "    })();\n",
              "  </script>\n",
              "</div>\n",
              "\n",
              "    </div>\n",
              "  </div>\n"
            ],
            "application/vnd.google.colaboratory.intrinsic+json": {
              "type": "dataframe",
              "variable_name": "cancer_dataset"
            }
          },
          "metadata": {},
          "execution_count": 3
        }
      ]
    },
    {
      "cell_type": "markdown",
      "source": [
        "###Eliminamos columnas innecesarias"
      ],
      "metadata": {
        "id": "FV64RUSAXeb4"
      }
    },
    {
      "cell_type": "code",
      "source": [
        "# Eliminamos las columnas que no aportan datos que son 'id' y 'Unnamed: 32'.\n",
        "print('\\nEliminanos las columnas id  y Unnamed: 32\\n')\n",
        "cancer_dataset = cancer_dataset.drop(['id', 'Unnamed: 32'],axis = 1)\n",
        "\n",
        "# Mostramos 5 filas de los datos\n",
        "print('Atributos del conjunto de datos: ', cancer_dataset.columns)\n",
        "print('Dimensiones del conjunto de datos',cancer_dataset.shape)"
      ],
      "metadata": {
        "colab": {
          "base_uri": "https://localhost:8080/"
        },
        "id": "8k9PvbTuXii_",
        "outputId": "0bc97d5c-5a19-4edb-de0e-478708f290ce"
      },
      "execution_count": null,
      "outputs": [
        {
          "output_type": "stream",
          "name": "stdout",
          "text": [
            "\n",
            "Eliminanos las columnas id  y Unnamed: 32\n",
            "\n",
            "Atributos del conjunto de datos:  Index(['diagnosis', 'radius_mean', 'texture_mean', 'perimeter_mean',\n",
            "       'area_mean', 'smoothness_mean', 'compactness_mean', 'concavity_mean',\n",
            "       'concave points_mean', 'symmetry_mean', 'fractal_dimension_mean',\n",
            "       'radius_se', 'texture_se', 'perimeter_se', 'area_se', 'smoothness_se',\n",
            "       'compactness_se', 'concavity_se', 'concave points_se', 'symmetry_se',\n",
            "       'fractal_dimension_se', 'radius_worst', 'texture_worst',\n",
            "       'perimeter_worst', 'area_worst', 'smoothness_worst',\n",
            "       'compactness_worst', 'concavity_worst', 'concave points_worst',\n",
            "       'symmetry_worst', 'fractal_dimension_worst'],\n",
            "      dtype='object')\n",
            "Dimensiones del conjunto de datos (569, 31)\n"
          ]
        }
      ]
    },
    {
      "cell_type": "markdown",
      "source": [
        "###Preparamos los datos para ser empleados:"
      ],
      "metadata": {
        "id": "cU3UHQS6XomZ"
      }
    },
    {
      "cell_type": "code",
      "source": [
        "print('Valores de diagnosis (antes del cambio): \\n', cancer_dataset['diagnosis'])\n",
        "\n",
        "cancer_dataset['diagnosis'] = cancer_dataset['diagnosis'].replace(('M'),1)\n",
        "cancer_dataset['diagnosis'] = cancer_dataset['diagnosis'].replace(('B'),0)\n",
        "\n",
        "print('Valores de diagnosis (después del cambio):  \\n', cancer_dataset['diagnosis'])"
      ],
      "metadata": {
        "colab": {
          "base_uri": "https://localhost:8080/"
        },
        "id": "g2asbXzTXsYo",
        "outputId": "793f8fdc-3656-4923-ba3b-c9e94868022e"
      },
      "execution_count": null,
      "outputs": [
        {
          "output_type": "stream",
          "name": "stdout",
          "text": [
            "Valores de diagnosis (antes del cambio): \n",
            " 0      M\n",
            "1      M\n",
            "2      M\n",
            "3      M\n",
            "4      M\n",
            "      ..\n",
            "564    M\n",
            "565    M\n",
            "566    M\n",
            "567    M\n",
            "568    B\n",
            "Name: diagnosis, Length: 569, dtype: object\n",
            "Valores de diagnosis (después del cambio):  \n",
            " 0      1\n",
            "1      1\n",
            "2      1\n",
            "3      1\n",
            "4      1\n",
            "      ..\n",
            "564    1\n",
            "565    1\n",
            "566    1\n",
            "567    1\n",
            "568    0\n",
            "Name: diagnosis, Length: 569, dtype: int64\n"
          ]
        },
        {
          "output_type": "stream",
          "name": "stderr",
          "text": [
            "<ipython-input-5-1593eb84e362>:4: FutureWarning: Downcasting behavior in `replace` is deprecated and will be removed in a future version. To retain the old behavior, explicitly call `result.infer_objects(copy=False)`. To opt-in to the future behavior, set `pd.set_option('future.no_silent_downcasting', True)`\n",
            "  cancer_dataset['diagnosis'] = cancer_dataset['diagnosis'].replace(('B'),0)\n"
          ]
        }
      ]
    },
    {
      "cell_type": "markdown",
      "source": [
        "###Selección de la característica\n",
        "Se van a dividir los datos en dos:\n",
        "\n",
        "Variables objetivo o dependientes (que querremos predecir). En este caso es el diagnóstico diagnosis\n",
        "Variables de características o independientes (que emplearemos para la predicción). En este caso todas salvo diagnosis"
      ],
      "metadata": {
        "id": "pZvPZUOIYF3r"
      }
    },
    {
      "cell_type": "code",
      "source": [
        "X = cancer_dataset.drop('diagnosis', axis=1) # X está definido por todos los atributos salvo diagnosis\n",
        "y = cancer_dataset['diagnosis']"
      ],
      "metadata": {
        "id": "iWF--WgvYFIm"
      },
      "execution_count": null,
      "outputs": []
    },
    {
      "cell_type": "markdown",
      "source": [
        "###Creación de los datos de entrenamiento y de prueba\n",
        "Para poder evaluar correctamente el rendimiento de los modelos de eprendizaje automátoco se divide el conjunto de datos en un conjunto de entrenamiento y un conjunto de prueba o test.\n",
        "\n",
        "Así, vamos a dividir el conjunto de datos mediante la función train_test_split() a la que le pasamos cuatro parámetros: las características, el objetivo, la fracción del tamaño del conjunto de test y, además, opcionalmente se puede utilizar random_state para seleccionar los registros de forma aleatoria.\n",
        "\n",
        "En este caso, el conjunto de test será de un 20% de los datos y no se seleccionarán los registros de forma aleatoria."
      ],
      "metadata": {
        "id": "l4ehSzh4YTib"
      }
    },
    {
      "cell_type": "code",
      "source": [
        "X_train,X_test,y_train,y_test = model_selection.train_test_split(X,y,test_size=0.20,random_state=0)\n",
        "\n",
        "print('Dimensión de X_train: ', X_train.shape)\n",
        "print('Dimensión de X_test: ', X_test.shape)\n",
        "print('Dimensión de y_train: ', y_train.shape)\n",
        "print('Dimensión de y_est: ', y_test.shape)"
      ],
      "metadata": {
        "colab": {
          "base_uri": "https://localhost:8080/"
        },
        "id": "XyOVp3rzYXUu",
        "outputId": "87deebdb-e489-4f07-b82e-e6d0047b4685"
      },
      "execution_count": null,
      "outputs": [
        {
          "output_type": "stream",
          "name": "stdout",
          "text": [
            "Dimensión de X_train:  (455, 30)\n",
            "Dimensión de X_test:  (114, 30)\n",
            "Dimensión de y_train:  (455,)\n",
            "Dimensión de y_est:  (114,)\n"
          ]
        }
      ]
    },
    {
      "cell_type": "markdown",
      "source": [
        "###Creación del Modelo Base y vista de sus parametros"
      ],
      "metadata": {
        "id": "wHRkjKyNYmNf"
      }
    },
    {
      "cell_type": "code",
      "source": [
        "# Se crea el clasificador logístico\n",
        "ann_model_basic = neural_network.MLPClassifier(max_iter=1000,random_state=0)\n",
        "\n",
        "# Mostramos los parámetros por defecto\n",
        "print('Parámetros por defecto: ', ann_model_basic.get_params())"
      ],
      "metadata": {
        "colab": {
          "base_uri": "https://localhost:8080/"
        },
        "id": "Vy7P3u2tYn0K",
        "outputId": "c4330497-c479-4e6d-87d7-85f2b09e91ed"
      },
      "execution_count": null,
      "outputs": [
        {
          "output_type": "stream",
          "name": "stdout",
          "text": [
            "Parámetros por defecto:  {'activation': 'relu', 'alpha': 0.0001, 'batch_size': 'auto', 'beta_1': 0.9, 'beta_2': 0.999, 'early_stopping': False, 'epsilon': 1e-08, 'hidden_layer_sizes': (100,), 'learning_rate': 'constant', 'learning_rate_init': 0.001, 'max_fun': 15000, 'max_iter': 1000, 'momentum': 0.9, 'n_iter_no_change': 10, 'nesterovs_momentum': True, 'power_t': 0.5, 'random_state': 0, 'shuffle': True, 'solver': 'adam', 'tol': 0.0001, 'validation_fraction': 0.1, 'verbose': False, 'warm_start': False}\n"
          ]
        }
      ]
    },
    {
      "cell_type": "markdown",
      "source": [
        "Seleccionamos los parámentros que queremos modificar a los valores por defecto y la lista de valores posibles. En este caso se va a modificar:\n",
        "* **hidden_layer_sizes**: estructura de la red. Define cuántas capas ocultas y cuántas neuronas por capa tiene tu red.\n",
        "* **activation**: Función de activación. Afecta directamente a la no linealidad del modelo.\n",
        "* **solver**: Algoritmo de optimización. Define cómo se ajustan los pesos de la red neuronal\n",
        "* **alpha**: Regularización L2. Ayuda a evitar el sobreajuste.\n",
        "* **learning_rate**: estrategia de tasa de aprendizaje. Controla cuánto cambian los pesos en cada paso del entrenamiento.\n",
        "\n",
        "Se ha elegido estos parametros porque son los que más impacto tienen en la capacidad de aprendizaje del modelo, la velocidad de entrenamiento, el riesgo de sobreajuste y la estabilidad del proceso de optimización.\n"
      ],
      "metadata": {
        "id": "TU5Mxof1b-te"
      }
    },
    {
      "cell_type": "code",
      "source": [
        "# Definimos los parámetros a configurar\n",
        "params = {\n",
        "    'hidden_layer_sizes': [(50,), (100,), (50, 50)],\n",
        "    'activation': ['relu', 'tanh'],\n",
        "    'solver': ['adam', 'sgd'],\n",
        "    'alpha': [0.0001, 0.001],\n",
        "    'learning_rate': ['constant', 'adaptive']\n",
        "}\n"
      ],
      "metadata": {
        "id": "3HdlIc2tcEHq"
      },
      "execution_count": null,
      "outputs": []
    },
    {
      "cell_type": "markdown",
      "source": [
        "###Buscador Grid search\n",
        "Grid Search es una herramienta que nos ayuda a encontrar los mejores hiperparámetros para nuestro modelo.\n",
        "Lo que hace es probar todas las combinaciones posibles que le demos y ver cuál funciona mejor con nuestros datos de entrenamiento.\n",
        "\n",
        "Esto se hace usando validación cruzada, y al final nos dice qué combinación de parámetros da mejor resultado según la métrica que elijamos (por ejemplo, f1, accuracy, etc).\n",
        "\n",
        "Es muy útil porque así no tenemos que ir probando los parámetros a mano, y nos aseguramos de que el modelo esté bien ajustado sin pasarnos (ni quedarnos cortos)."
      ],
      "metadata": {
        "id": "4B4wmfALgoM0"
      }
    },
    {
      "cell_type": "code",
      "source": [
        "# Creamos el buscador con GridSearchCV\n",
        "buscador_grid = model_selection.GridSearchCV(\n",
        "    estimator=ann_model_basic,\n",
        "    param_grid=params,\n",
        "    scoring='f1_macro',\n",
        "    cv=5,\n",
        "    n_jobs=-1,\n",
        "    verbose=3\n",
        ")\n",
        "\n",
        "# Lanzamos la búsqueda\n",
        "buscador_grid.fit(X_train, y_train)\n",
        "\n",
        "# Mostramos los resultados de la búsqueda\n",
        "print('La mejor configuración encontrada es:', buscador_grid.best_params_)\n",
        "print('La puntuación de la mejor configuración es:', buscador_grid.best_score_)\n",
        "\n",
        "# Nos quedamos con el modelo con los mejores parámetros\n",
        "best_model = buscador_grid.best_estimator_\n",
        "print('La configuración completa del modelo es:', best_model.get_params())"
      ],
      "metadata": {
        "colab": {
          "base_uri": "https://localhost:8080/"
        },
        "id": "7AtWUK1Rguh3",
        "outputId": "a5a75f2c-b874-4284-8afc-32a81eb4866c"
      },
      "execution_count": null,
      "outputs": [
        {
          "output_type": "stream",
          "name": "stdout",
          "text": [
            "Fitting 5 folds for each of 48 candidates, totalling 240 fits\n",
            "La mejor configuración encontrada es: {'activation': 'tanh', 'alpha': 0.001, 'hidden_layer_sizes': (50,), 'learning_rate': 'constant', 'solver': 'adam'}\n",
            "La puntuación de la mejor configuración es: 0.9400234530961334\n",
            "La configuración completa del modelo es: {'activation': 'tanh', 'alpha': 0.001, 'batch_size': 'auto', 'beta_1': 0.9, 'beta_2': 0.999, 'early_stopping': False, 'epsilon': 1e-08, 'hidden_layer_sizes': (50,), 'learning_rate': 'constant', 'learning_rate_init': 0.001, 'max_fun': 15000, 'max_iter': 1000, 'momentum': 0.9, 'n_iter_no_change': 10, 'nesterovs_momentum': True, 'power_t': 0.5, 'random_state': 0, 'shuffle': True, 'solver': 'adam', 'tol': 0.0001, 'validation_fraction': 0.1, 'verbose': False, 'warm_start': False}\n"
          ]
        }
      ]
    },
    {
      "cell_type": "markdown",
      "source": [
        "#Testeamos el mejor modelo"
      ],
      "metadata": {
        "id": "Rq7Icrb0hPgg"
      }
    },
    {
      "cell_type": "code",
      "source": [
        "# Empleamos el modelo entrenado con los parámetros óptimos para predecir sobre el test\n",
        "y_pred = best_model.predict(X_test)"
      ],
      "metadata": {
        "id": "H15gIuoyhO3Z"
      },
      "execution_count": null,
      "outputs": []
    },
    {
      "cell_type": "markdown",
      "source": [
        "### Evaluación del modelo (Métricas)\n",
        "\n",
        "Evaluaremos cuatro métricas diferentes empleadas en los problemas de clasificación:\n",
        "\n",
        "* *Precision*\to precisión\n",
        "* *Recall* o sensibilidad\n",
        "* F1-score o indicador F1\n",
        "* Accuracy o exactitud"
      ],
      "metadata": {
        "id": "q1vWchJahaHx"
      }
    },
    {
      "cell_type": "code",
      "source": [
        "# Calculamos y mostramos las diferentes métricas\n",
        "precision = metrics.precision_score(y_test, y_pred, average=\"macro\")\n",
        "sensibilidad = metrics.recall_score(y_test, y_pred, average=\"macro\")\n",
        "f1_score = metrics.f1_score(y_test, y_pred, average=\"macro\")\n",
        "exactitud = metrics.accuracy_score(y_test, y_pred)\n",
        "\n",
        "print('Precisión:', precision)\n",
        "print('Sensibilidad:', sensibilidad)\n",
        "print('F1-score:', f1_score)\n",
        "print('Exactitud:', exactitud)"
      ],
      "metadata": {
        "colab": {
          "base_uri": "https://localhost:8080/"
        },
        "id": "wfKcijGThkSs",
        "outputId": "dcdbef05-890b-489e-9328-925734643a8c"
      },
      "execution_count": null,
      "outputs": [
        {
          "output_type": "stream",
          "name": "stdout",
          "text": [
            "Precisión: 0.9344906649197511\n",
            "Sensibilidad: 0.9212448396316291\n",
            "F1-score: 0.9265700483091788\n",
            "Exactitud: 0.9298245614035088\n"
          ]
        }
      ]
    },
    {
      "cell_type": "markdown",
      "source": [
        "###Matriz de confusión"
      ],
      "metadata": {
        "id": "KmLwQyXhijRz"
      }
    },
    {
      "cell_type": "code",
      "source": [
        "# Creamos una figura para mostrar la matriz de confusión\n",
        "y_pred = best_model.predict(X_test)\n",
        "\n",
        "# Obtenemos y mostramos la matriz de confusión\n",
        "matriz_confusión = metrics.confusion_matrix(y_test, y_pred)\n",
        "\n",
        "\n",
        "fig, ax = plt.subplots()\n",
        "\n",
        "# create heatmap\n",
        "sns.heatmap(pd.DataFrame(matriz_confusión), annot=True, cmap=\"YlGnBu\" ,fmt='g')\n",
        "ax.xaxis.set_label_position(\"top\")\n",
        "plt.tight_layout()\n",
        "plt.title('Matriz de confusión', y=1.1)\n",
        "plt.ylabel('Etiqueta real')\n",
        "plt.xlabel('Etiqueta predicha')"
      ],
      "metadata": {
        "colab": {
          "base_uri": "https://localhost:8080/",
          "height": 561
        },
        "id": "wf0zxj4OintN",
        "outputId": "c2bca8f6-3320-4a7b-cf01-e3e759aaa856"
      },
      "execution_count": null,
      "outputs": [
        {
          "output_type": "execute_result",
          "data": {
            "text/plain": [
              "Text(0.5, 427.9555555555555, 'Etiqueta predicha')"
            ]
          },
          "metadata": {},
          "execution_count": 13
        },
        {
          "output_type": "display_data",
          "data": {
            "text/plain": [
              "<Figure size 640x480 with 2 Axes>"
            ],
            "image/png": "[encoded data removed]"
          },
          "metadata": {}
        }
      ]
    }
  ]
}